{
  "nbformat": 4,
  "nbformat_minor": 0,
  "metadata": {
    "colab": {
      "provenance": [],
      "toc_visible": true,
      "mount_file_id": "1KZJ5O9V6giQup8Rx0UpmyULXJ1lHfD7q",
      "authorship_tag": "ABX9TyO71orqwkgkEalQhY1tDGik",
      "include_colab_link": true
    },
    "kernelspec": {
      "name": "python3",
      "display_name": "Python 3"
    },
    "language_info": {
      "name": "python"
    }
  },
  "cells": [
    {
      "cell_type": "markdown",
      "metadata": {
        "id": "view-in-github",
        "colab_type": "text"
      },
      "source": [
        "<a href=\"https://colab.research.google.com/github/manjulsolanke/python-learnig/blob/main/Soil_image_classification.ipynb\" target=\"_parent\"><img src=\"https://colab.research.google.com/assets/colab-badge.svg\" alt=\"Open In Colab\"/></a>"
      ]
    },
    {
      "cell_type": "code",
      "execution_count": 2,
      "metadata": {
        "id": "W5HgWfj997rB"
      },
      "outputs": [],
      "source": [
        "import numpy as np\n",
        "import pandas as pd\n",
        "\n",
        "import os\n",
        "dir_black = os.path.join('/gdrive/MyDrive/soli_type/Soil types/Black Soil')\n",
        "dir_Cinder = os.path.join('/gdrive/MyDrive/soli_type/Soil types/Cinder Soil')\n",
        "dir_Laterite = os.path.join('/gdrive/MyDrive/soli_type/Soil types/Laterite Soil')\n",
        "dir_peat = os.path.join('/gdrive/MyDrive/soli_type/Soil types/Peat Soil')\n",
        "dir_yellow = os.path.join('/gdrive/MyDrive/soli_type/Soil types/Yellow Soil')\n",
        ""
      ]
    },
    {
      "cell_type": "code",
      "source": [
        "import tensorflow as tf\n",
        "from tensorflow import keras"
      ],
      "metadata": {
        "id": "9ItNcIj2_pKw"
      },
      "execution_count": 3,
      "outputs": []
    },
    {
      "cell_type": "code",
      "source": [
        "from google.colab import drive\n",
        "drive.mount('/gdrive')"
      ],
      "metadata": {
        "colab": {
          "base_uri": "https://localhost:8080/"
        },
        "id": "FkR5X5NF-0eW",
        "outputId": "0495b396-0e5f-438c-a56d-a4e8ba804935"
      },
      "execution_count": 1,
      "outputs": [
        {
          "output_type": "stream",
          "name": "stdout",
          "text": [
            "Mounted at /gdrive\n"
          ]
        }
      ]
    },
    {
      "cell_type": "code",
      "source": [
        "image_size = 220\n",
        "batch_size = 10\n",
        "\n",
        "\n",
        "target_size = (image_size, image_size)\n",
        "input_shape = (image_size, image_size, 3)"
      ],
      "metadata": {
        "id": "CoYmeQUE_uO8"
      },
      "execution_count": 4,
      "outputs": []
    },
    {
      "cell_type": "code",
      "source": [
        "from tensorflow.keras.preprocessing.image import ImageDataGenerator\n",
        "\n",
        "train_datagen = ImageDataGenerator(rescale=1/255)\n",
        "\n",
        "\n",
        "train_generator = train_datagen.flow_from_directory(\n",
        "        '/gdrive/MyDrive/soli_type/Soil types/',\n",
        "        target_size=(200, 200),\n",
        "        batch_size = batch_size,\n",
        "        classes = [ 'Black Soil','Cinder Soil', 'Laterite Soil','Peat Soil','Yellow Soil'],\n",
        "       class_mode='categorical')"
      ],
      "metadata": {
        "colab": {
          "base_uri": "https://localhost:8080/"
        },
        "id": "mJQzJlfw_yz6",
        "outputId": "465b2c16-01d4-46b8-c5e4-b7b62bd29fce"
      },
      "execution_count": 5,
      "outputs": [
        {
          "output_type": "stream",
          "name": "stdout",
          "text": [
            "Found 156 images belonging to 5 classes.\n"
          ]
        }
      ]
    },
    {
      "cell_type": "code",
      "source": [
        "for image_batch, label_batch in train_generator:\n",
        "  break\n",
        "  image_batch.shape, label_batch.shape"
      ],
      "metadata": {
        "id": "yfEK2daeAB_z"
      },
      "execution_count": 6,
      "outputs": []
    },
    {
      "cell_type": "code",
      "source": [
        "print (train_generator.class_indices)"
      ],
      "metadata": {
        "colab": {
          "base_uri": "https://localhost:8080/"
        },
        "id": "890XxBBxAFwK",
        "outputId": "793ed562-3c63-40af-bc88-d8c08f09142c"
      },
      "execution_count": 7,
      "outputs": [
        {
          "output_type": "stream",
          "name": "stdout",
          "text": [
            "{'Black Soil': 0, 'Cinder Soil': 1, 'Laterite Soil': 2, 'Peat Soil': 3, 'Yellow Soil': 4}\n"
          ]
        }
      ]
    },
    {
      "cell_type": "code",
      "source": [
        "model = tf.keras.models.Sequential([\n",
        "\n",
        "    # The first convolution\n",
        "    tf.keras.layers.Conv2D(16, (3,3), activation='relu', input_shape=(220, 220, 3)),\n",
        "    tf.keras.layers.MaxPooling2D(2, 2),\n",
        "    # The second convolution\n",
        "    tf.keras.layers.Conv2D(32, (3,3), activation='relu'),\n",
        "    tf.keras.layers.MaxPooling2D(2,2),\n",
        "    # The third convolution\n",
        "    tf.keras.layers.Conv2D(64, (3,3), activation='relu'),\n",
        "    tf.keras.layers.MaxPooling2D(2,2),\n",
        "    # The fourth convolution\n",
        "    tf.keras.layers.Conv2D(64, (3,3), activation='relu'),\n",
        "    tf.keras.layers.MaxPooling2D(2,2),\n",
        "    # The fifth convolution\n",
        "    tf.keras.layers.Conv2D(64, (3,3), activation='relu'),\n",
        "    tf.keras.layers.MaxPooling2D(2,2),\n",
        "\n",
        "    # Flatten the results to feed into a dense layer\n",
        "    tf.keras.layers.Flatten(),\n",
        "    # 128 neuron in the fully-connected layer\n",
        "    tf.keras.layers.Dense(128, activation='relu'),\n",
        "    # 5 output neurons for 5 classes with the softmax activation\n",
        "    tf.keras.layers.Dense(5, activation='softmax')\n",
        "])"
      ],
      "metadata": {
        "id": "IBGiMB0xAL11"
      },
      "execution_count": 8,
      "outputs": []
    },
    {
      "cell_type": "code",
      "source": [
        "model.summary()"
      ],
      "metadata": {
        "colab": {
          "base_uri": "https://localhost:8080/"
        },
        "id": "e73_xJmLASJO",
        "outputId": "77911b85-c8ee-4540-a282-08cefccf0846"
      },
      "execution_count": 9,
      "outputs": [
        {
          "output_type": "stream",
          "name": "stdout",
          "text": [
            "Model: \"sequential\"\n",
            "_________________________________________________________________\n",
            " Layer (type)                Output Shape              Param #   \n",
            "=================================================================\n",
            " conv2d (Conv2D)             (None, 218, 218, 16)      448       \n",
            "                                                                 \n",
            " max_pooling2d (MaxPooling2  (None, 109, 109, 16)      0         \n",
            " D)                                                              \n",
            "                                                                 \n",
            " conv2d_1 (Conv2D)           (None, 107, 107, 32)      4640      \n",
            "                                                                 \n",
            " max_pooling2d_1 (MaxPoolin  (None, 53, 53, 32)        0         \n",
            " g2D)                                                            \n",
            "                                                                 \n",
            " conv2d_2 (Conv2D)           (None, 51, 51, 64)        18496     \n",
            "                                                                 \n",
            " max_pooling2d_2 (MaxPoolin  (None, 25, 25, 64)        0         \n",
            " g2D)                                                            \n",
            "                                                                 \n",
            " conv2d_3 (Conv2D)           (None, 23, 23, 64)        36928     \n",
            "                                                                 \n",
            " max_pooling2d_3 (MaxPoolin  (None, 11, 11, 64)        0         \n",
            " g2D)                                                            \n",
            "                                                                 \n",
            " conv2d_4 (Conv2D)           (None, 9, 9, 64)          36928     \n",
            "                                                                 \n",
            " max_pooling2d_4 (MaxPoolin  (None, 4, 4, 64)          0         \n",
            " g2D)                                                            \n",
            "                                                                 \n",
            " flatten (Flatten)           (None, 1024)              0         \n",
            "                                                                 \n",
            " dense (Dense)               (None, 128)               131200    \n",
            "                                                                 \n",
            " dense_1 (Dense)             (None, 5)                 645       \n",
            "                                                                 \n",
            "=================================================================\n",
            "Total params: 229285 (895.64 KB)\n",
            "Trainable params: 229285 (895.64 KB)\n",
            "Non-trainable params: 0 (0.00 Byte)\n",
            "_________________________________________________________________\n"
          ]
        }
      ]
    },
    {
      "cell_type": "code",
      "source": [
        "from tensorflow.keras.optimizers import RMSprop\n",
        "\n",
        "model.compile(loss='categorical_crossentropy',\n",
        "              optimizer=RMSprop(learning_rate=0.001),\n",
        "              metrics=['acc'])"
      ],
      "metadata": {
        "id": "MUL_6pVAAV40"
      },
      "execution_count": 10,
      "outputs": []
    },
    {
      "cell_type": "code",
      "source": [
        "total_sample = train_generator.n\n",
        "n_epochs = 30"
      ],
      "metadata": {
        "id": "Sj7g_CRKAYlu"
      },
      "execution_count": 11,
      "outputs": []
    },
    {
      "cell_type": "code",
      "source": [
        "history = model.fit(\n",
        "        train_generator,\n",
        "        steps_per_epoch = int(total_sample/batch_size),\n",
        "        epochs = n_epochs,\n",
        "        verbose = 2)"
      ],
      "metadata": {
        "colab": {
          "base_uri": "https://localhost:8080/"
        },
        "id": "FuZUTAx0Ab23",
        "outputId": "4da275f5-71cd-4474-aa67-05181cef784c"
      },
      "execution_count": 12,
      "outputs": [
        {
          "output_type": "stream",
          "name": "stdout",
          "text": [
            "Epoch 1/30\n",
            "15/15 - 37s - loss: 1.6495 - acc: 0.2192 - 37s/epoch - 2s/step\n",
            "Epoch 2/30\n",
            "15/15 - 5s - loss: 1.5957 - acc: 0.3151 - 5s/epoch - 356ms/step\n",
            "Epoch 3/30\n",
            "15/15 - 7s - loss: 1.2215 - acc: 0.4452 - 7s/epoch - 475ms/step\n",
            "Epoch 4/30\n",
            "15/15 - 6s - loss: 1.1897 - acc: 0.4110 - 6s/epoch - 407ms/step\n",
            "Epoch 5/30\n",
            "15/15 - 6s - loss: 1.0849 - acc: 0.4452 - 6s/epoch - 419ms/step\n",
            "Epoch 6/30\n",
            "15/15 - 7s - loss: 0.9700 - acc: 0.5342 - 7s/epoch - 494ms/step\n",
            "Epoch 7/30\n",
            "15/15 - 6s - loss: 0.9180 - acc: 0.5548 - 6s/epoch - 403ms/step\n",
            "Epoch 8/30\n",
            "15/15 - 8s - loss: 0.9407 - acc: 0.5548 - 8s/epoch - 525ms/step\n",
            "Epoch 9/30\n",
            "15/15 - 6s - loss: 0.9135 - acc: 0.5753 - 6s/epoch - 374ms/step\n",
            "Epoch 10/30\n",
            "15/15 - 5s - loss: 0.8523 - acc: 0.5959 - 5s/epoch - 362ms/step\n",
            "Epoch 11/30\n",
            "15/15 - 8s - loss: 0.7793 - acc: 0.6575 - 8s/epoch - 540ms/step\n",
            "Epoch 12/30\n",
            "15/15 - 5s - loss: 0.8197 - acc: 0.6027 - 5s/epoch - 355ms/step\n",
            "Epoch 13/30\n",
            "15/15 - 7s - loss: 0.8007 - acc: 0.6096 - 7s/epoch - 477ms/step\n",
            "Epoch 14/30\n",
            "15/15 - 5s - loss: 0.6824 - acc: 0.6918 - 5s/epoch - 352ms/step\n",
            "Epoch 15/30\n",
            "15/15 - 8s - loss: 0.7683 - acc: 0.6164 - 8s/epoch - 509ms/step\n",
            "Epoch 16/30\n",
            "15/15 - 5s - loss: 0.6637 - acc: 0.6781 - 5s/epoch - 346ms/step\n",
            "Epoch 17/30\n",
            "15/15 - 5s - loss: 0.6936 - acc: 0.6712 - 5s/epoch - 353ms/step\n",
            "Epoch 18/30\n",
            "15/15 - 8s - loss: 0.6214 - acc: 0.7260 - 8s/epoch - 536ms/step\n",
            "Epoch 19/30\n",
            "15/15 - 5s - loss: 0.7061 - acc: 0.6644 - 5s/epoch - 354ms/step\n",
            "Epoch 20/30\n",
            "15/15 - 5s - loss: 0.6194 - acc: 0.7123 - 5s/epoch - 358ms/step\n",
            "Epoch 21/30\n",
            "15/15 - 8s - loss: 0.6138 - acc: 0.7397 - 8s/epoch - 564ms/step\n",
            "Epoch 22/30\n",
            "15/15 - 5s - loss: 0.5918 - acc: 0.7466 - 5s/epoch - 352ms/step\n",
            "Epoch 23/30\n",
            "15/15 - 6s - loss: 0.5353 - acc: 0.7740 - 6s/epoch - 407ms/step\n",
            "Epoch 24/30\n",
            "15/15 - 7s - loss: 0.5844 - acc: 0.7466 - 7s/epoch - 494ms/step\n",
            "Epoch 25/30\n",
            "15/15 - 5s - loss: 0.7352 - acc: 0.7329 - 5s/epoch - 341ms/step\n",
            "Epoch 26/30\n",
            "15/15 - 7s - loss: 0.4100 - acc: 0.8082 - 7s/epoch - 486ms/step\n",
            "Epoch 27/30\n",
            "15/15 - 5s - loss: 0.5707 - acc: 0.7740 - 5s/epoch - 356ms/step\n",
            "Epoch 28/30\n",
            "15/15 - 5s - loss: 0.4346 - acc: 0.8493 - 5s/epoch - 346ms/step\n",
            "Epoch 29/30\n",
            "15/15 - 8s - loss: 0.5937 - acc: 0.7945 - 8s/epoch - 505ms/step\n",
            "Epoch 30/30\n",
            "15/15 - 5s - loss: 0.3606 - acc: 0.8767 - 5s/epoch - 366ms/step\n"
          ]
        }
      ]
    },
    {
      "cell_type": "code",
      "source": [
        "history = model.fit(\n",
        "        train_generator,\n",
        "        steps_per_epoch = int(total_sample/batch_size),\n",
        "        epochs = n_epochs,\n",
        "        verbose = 2)"
      ],
      "metadata": {
        "colab": {
          "base_uri": "https://localhost:8080/"
        },
        "id": "wFbJAQvWB54R",
        "outputId": "f1f07dc6-b1a9-4cf3-fffb-3a49e2cc2aa4"
      },
      "execution_count": 13,
      "outputs": [
        {
          "output_type": "stream",
          "name": "stdout",
          "text": [
            "Epoch 1/30\n",
            "15/15 - 6s - loss: 0.4866 - acc: 0.8425 - 6s/epoch - 368ms/step\n",
            "Epoch 2/30\n",
            "15/15 - 9s - loss: 0.3175 - acc: 0.9178 - 9s/epoch - 623ms/step\n",
            "Epoch 3/30\n",
            "15/15 - 5s - loss: 0.2622 - acc: 0.9178 - 5s/epoch - 356ms/step\n",
            "Epoch 4/30\n",
            "15/15 - 7s - loss: 0.4474 - acc: 0.8356 - 7s/epoch - 470ms/step\n",
            "Epoch 5/30\n",
            "15/15 - 6s - loss: 0.4359 - acc: 0.8562 - 6s/epoch - 405ms/step\n",
            "Epoch 6/30\n",
            "15/15 - 5s - loss: 0.2778 - acc: 0.9315 - 5s/epoch - 355ms/step\n",
            "Epoch 7/30\n",
            "15/15 - 8s - loss: 0.2413 - acc: 0.9267 - 8s/epoch - 521ms/step\n",
            "Epoch 8/30\n",
            "15/15 - 5s - loss: 0.4540 - acc: 0.8836 - 5s/epoch - 364ms/step\n",
            "Epoch 9/30\n",
            "15/15 - 9s - loss: 0.2871 - acc: 0.8836 - 9s/epoch - 599ms/step\n",
            "Epoch 10/30\n",
            "15/15 - 5s - loss: 0.2632 - acc: 0.9041 - 5s/epoch - 364ms/step\n",
            "Epoch 11/30\n",
            "15/15 - 7s - loss: 0.2050 - acc: 0.9178 - 7s/epoch - 476ms/step\n",
            "Epoch 12/30\n",
            "15/15 - 5s - loss: 0.4902 - acc: 0.8356 - 5s/epoch - 362ms/step\n",
            "Epoch 13/30\n",
            "15/15 - 8s - loss: 0.1789 - acc: 0.9247 - 8s/epoch - 556ms/step\n",
            "Epoch 14/30\n",
            "15/15 - 5s - loss: 0.4184 - acc: 0.8973 - 5s/epoch - 363ms/step\n",
            "Epoch 15/30\n",
            "15/15 - 7s - loss: 0.0709 - acc: 0.9932 - 7s/epoch - 467ms/step\n",
            "Epoch 16/30\n",
            "15/15 - 5s - loss: 0.6394 - acc: 0.8767 - 5s/epoch - 355ms/step\n",
            "Epoch 17/30\n",
            "15/15 - 6s - loss: 0.1848 - acc: 0.9452 - 6s/epoch - 433ms/step\n",
            "Epoch 18/30\n",
            "15/15 - 5s - loss: 0.1100 - acc: 0.9726 - 5s/epoch - 364ms/step\n",
            "Epoch 19/30\n",
            "15/15 - 8s - loss: 0.2613 - acc: 0.9452 - 8s/epoch - 520ms/step\n",
            "Epoch 20/30\n",
            "15/15 - 5s - loss: 0.3836 - acc: 0.9178 - 5s/epoch - 357ms/step\n",
            "Epoch 21/30\n",
            "15/15 - 7s - loss: 0.0799 - acc: 0.9932 - 7s/epoch - 441ms/step\n",
            "Epoch 22/30\n",
            "15/15 - 6s - loss: 0.4060 - acc: 0.8699 - 6s/epoch - 369ms/step\n",
            "Epoch 23/30\n",
            "15/15 - 8s - loss: 0.1993 - acc: 0.9247 - 8s/epoch - 539ms/step\n",
            "Epoch 24/30\n",
            "15/15 - 6s - loss: 0.0785 - acc: 0.9726 - 6s/epoch - 385ms/step\n",
            "Epoch 25/30\n",
            "15/15 - 8s - loss: 0.5292 - acc: 0.8904 - 8s/epoch - 550ms/step\n",
            "Epoch 26/30\n",
            "15/15 - 5s - loss: 0.0712 - acc: 0.9795 - 5s/epoch - 352ms/step\n",
            "Epoch 27/30\n",
            "15/15 - 7s - loss: 0.1257 - acc: 0.9384 - 7s/epoch - 488ms/step\n",
            "Epoch 28/30\n",
            "15/15 - 5s - loss: 0.0302 - acc: 0.9863 - 5s/epoch - 353ms/step\n",
            "Epoch 29/30\n",
            "15/15 - 6s - loss: 0.0083 - acc: 1.0000 - 6s/epoch - 431ms/step\n",
            "Epoch 30/30\n",
            "15/15 - 7s - loss: 0.2220 - acc: 0.9452 - 7s/epoch - 484ms/step\n"
          ]
        }
      ]
    },
    {
      "cell_type": "code",
      "source": [
        "import matplotlib.pyplot as plt"
      ],
      "metadata": {
        "id": "M8Sb01dWDOdB"
      },
      "execution_count": 14,
      "outputs": []
    },
    {
      "cell_type": "code",
      "source": [
        "plt.figure(figsize=(7,4))\n",
        "plt.plot([i+1 for i in range(n_epochs)],history.history['acc'],'-o',c='k',lw=2,markersize=9)\n",
        "plt.grid(True)\n",
        "plt.title(\"Training accuracy with epochs\\n\",fontsize=18)\n",
        "plt.xlabel(\"Training epochs\",fontsize=15)\n",
        "plt.ylabel(\"Training accuracy\",fontsize=15)\n",
        "plt.xticks(fontsize=15)\n",
        "plt.yticks(fontsize=15)\n",
        "plt.show()\n"
      ],
      "metadata": {
        "colab": {
          "base_uri": "https://localhost:8080/",
          "height": 455
        },
        "id": "ETG1Ch3hDS44",
        "outputId": "6567953c-109b-4f9a-fb35-e8b062408f6e"
      },
      "execution_count": 15,
      "outputs": [
        {
          "output_type": "display_data",
          "data": {
            "text/plain": [
              "<Figure size 700x400 with 1 Axes>"
            ],
            "image/png": "[encoded data removed]"
          },
          "metadata": {}
        }
      ]
    },
    {
      "cell_type": "code",
      "source": [
        "model.save('my_model.h5')"
      ],
      "metadata": {
        "colab": {
          "base_uri": "https://localhost:8080/"
        },
        "id": "nUH8vee2DXug",
        "outputId": "19b377f2-6823-4ffe-b074-4bd76c9d8e73"
      },
      "execution_count": 16,
      "outputs": [
        {
          "output_type": "stream",
          "name": "stderr",
          "text": [
            "/usr/local/lib/python3.10/dist-packages/keras/src/engine/training.py:3079: UserWarning: You are saving your model as an HDF5 file via `model.save()`. This file format is considered legacy. We recommend using instead the native Keras format, e.g. `model.save('my_model.keras')`.\n",
            "  saving_api.save_model(\n"
          ]
        }
      ]
    }
  ]
}